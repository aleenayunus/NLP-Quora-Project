{
 "cells": [
  {
   "cell_type": "markdown",
   "metadata": {},
   "source": [
    "# Pre-processing and Feature Extraction\n",
    "Involves tasks concerning text cleaning, lemmatization and extracting feature which are used in Notebook6 "
   ]
  },
  {
   "cell_type": "code",
   "execution_count": 1,
   "metadata": {},
   "outputs": [],
   "source": [
    "import nltk\n",
    "import pandas as pd\n",
    "# import re\n",
    "import string\n",
    "import contractions\n",
    "import os\n",
    "from nltk import word_tokenize, sent_tokenize\n",
    "# from nltk.corpus import stopwords\n",
    "from nltk.stem import  WordNetLemmatizer\n",
    "import inflect\n",
    "# os.chdir('/home/rinkita/courses/NLPSeminar/nlp-quora-kaggle')\n",
    "# nltk.download('punkt')\n",
    "# nltk.download('stopwords')\n",
    "from tqdm import tqdm\n",
    "tqdm.pandas()\n",
    "import collections\n",
    "import re\n",
    "\n",
    "import matplotlib.pyplot as plt\n"
   ]
  },
  {
   "cell_type": "code",
   "execution_count": 2,
   "metadata": {},
   "outputs": [],
   "source": [
    "data = pd.read_csv(\"./data/balanced_train.csv\")\n",
    "x_train=data.question_text\n"
   ]
  },
  {
   "cell_type": "code",
   "execution_count": 3,
   "metadata": {},
   "outputs": [
    {
     "data": {
      "text/plain": [
       "0    Can organs be donated even after the person ha...\n",
       "1    Knowing what we do now about evolution and the...\n",
       "2                 Is it ok to smoke a cigarette naked?\n",
       "3                       How we attempt CBSE questions?\n",
       "4            Will rooting my phone void it's warranty?\n",
       "Name: question_text, dtype: object"
      ]
     },
     "execution_count": 3,
     "metadata": {},
     "output_type": "execute_result"
    }
   ],
   "source": [
    "x_train.head()"
   ]
  },
  {
   "cell_type": "code",
   "execution_count": 4,
   "metadata": {},
   "outputs": [
    {
     "data": {
      "text/plain": [
       "1    80810\n",
       "0    80810\n",
       "Name: target, dtype: int64"
      ]
     },
     "execution_count": 4,
     "metadata": {},
     "output_type": "execute_result"
    }
   ],
   "source": [
    "data.target.value_counts()"
   ]
  },
  {
   "cell_type": "code",
   "execution_count": null,
   "metadata": {},
   "outputs": [
    {
     "name": "stdout",
     "output_type": "stream",
     "text": [
      "<class 'pandas.core.frame.DataFrame'>\n",
      "RangeIndex: 161620 entries, 0 to 161619\n",
      "Data columns (total 3 columns):\n",
      "qid              161620 non-null object\n",
      "question_text    161620 non-null object\n",
      "target           161620 non-null int64\n",
      "dtypes: int64(1), object(2)\n",
      "memory usage: 3.7+ MB\n"
     ]
    }
   ],
   "source": [
    "data.info()"
   ]
  },
  {
   "cell_type": "code",
   "execution_count": null,
   "metadata": {},
   "outputs": [
    {
     "data": {
      "image/png": "[encoded data removed]",
      "text/plain": [
       "<Figure size 432x288 with 1 Axes>"
      ]
     },
     "metadata": {
      "needs_background": "light"
     },
     "output_type": "display_data"
    }
   ],
   "source": [
    "target_count=data.groupby('target').count()\n",
    "plt.bar(target_count.index.values, target_count['question_text'])\n",
    "plt.xlabel('Sincere/Insincere')\n",
    "plt.ylabel('Number of Questions')\n",
    "plt.show()"
   ]
  },
  {
   "cell_type": "code",
   "execution_count": null,
   "metadata": {},
   "outputs": [
    {
     "name": "stderr",
     "output_type": "stream",
     "text": [
      "100%|██████████| 161620/161620 [00:47<00:00, 3400.30it/s]\n"
     ]
    }
   ],
   "source": [
    "# \"\"\"Replace contractions in string of text\"\"\"\n",
    "contracted_input = x_train.progress_apply(lambda row:contractions.fix(row))"
   ]
  },
  {
   "cell_type": "markdown",
   "metadata": {},
   "source": [
    "# Text Cleaning"
   ]
  },
  {
   "cell_type": "code",
   "execution_count": null,
   "metadata": {},
   "outputs": [],
   "source": [
    "def clean_text(question_text):\n",
    "    question_text = question_text.translate(str.maketrans('','',string.punctuation))\n",
    "    question_text = question_text.translate(str.maketrans('','','1234567890'))\n",
    "    question_text = \" \".join(question_text.split())    \n",
    "    question_text = question_text.split()\n",
    "    #stop_words = set(stopwords.words('english'))\n",
    "    #question_text = [w for w in question_text if not w in stop_words and len(w) >= 3]\n",
    "    question_text = [w for w in question_text if len(w) >= 3]\n",
    "    question_text = [w.strip('/\"“”') for w in question_text ]\n",
    "    question_text = \" \".join(question_text)\n",
    "    return question_text\n"
   ]
  },
  {
   "cell_type": "markdown",
   "metadata": {},
   "source": [
    "# Lemmatization"
   ]
  },
  {
   "cell_type": "code",
   "execution_count": null,
   "metadata": {},
   "outputs": [],
   "source": [
    "def lemmatize_verbs(words):\n",
    "    \"\"\"Lemmatize verbs in list of tokenized words\"\"\"\n",
    "    lemmatizer = WordNetLemmatizer()\n",
    "    lemmas = []\n",
    "    for word in words:\n",
    "        lemma = lemmatizer.lemmatize(word, pos='v')\n",
    "        lemmas.append(lemma)\n",
    "    return lemmas"
   ]
  },
  {
   "cell_type": "markdown",
   "metadata": {},
   "source": [
    "# Spell Correction"
   ]
  },
  {
   "cell_type": "code",
   "execution_count": null,
   "metadata": {},
   "outputs": [],
   "source": [
    "def tokens(text):\n",
    "    \"\"\"\n",
    "    Get all words from corpus\n",
    "    \"\"\"\n",
    "    return re.findall(r'\\w+', text)\n",
    "\n",
    "WORDS = tokens(open(\"./data/words_alpha.txt\", 'r').read())\n",
    "WORD_COUNTS = collections.Counter(WORDS)"
   ]
  },
  {
   "cell_type": "code",
   "execution_count": null,
   "metadata": {},
   "outputs": [],
   "source": [
    "def edits0(word):\n",
    "    \"\"\"\n",
    "    Return all strings that are zero edits away (i.e. the word itself).\n",
    "    \"\"\"\n",
    "    return{word}\n",
    "\n",
    "def edits1(word):\n",
    "    \"\"\"\n",
    "    Return all strings that are one edits away.\n",
    "    \"\"\"\n",
    "    alphabet = 'abcdefghijklmnopqrstuvwxyz'\n",
    "    def splits(word):\n",
    "        \"\"\"\n",
    "        return a list of all possible pairs\n",
    "        that the input word is made of\n",
    "        \"\"\"\n",
    "        return [(word[:i], word[i:]) for i in range(len(word)+1)]\n",
    "    pairs = splits(word)\n",
    "    deletes = [a+b[1:] for (a,b) in pairs if b]\n",
    "    transposes = [a+b[1]+b[0]+b[2:] for (a,b) in pairs if len(b) >1]\n",
    "    replaces = [a+c+b[1:] for (a,b) in pairs for c in alphabet if b]\n",
    "    inserts = [a+c+b for (a,b) in pairs for c in alphabet]\n",
    "    return(set(deletes + transposes + replaces + inserts))\n",
    "\n",
    "def edits2(word):\n",
    "    \"\"\"\n",
    "    return all strings that are two edits away.\n",
    "    \"\"\"\n",
    "    return {e2 for e1 in edits1(word) for e2 in edits1(e1)}\n",
    "\n",
    "def known(words):\n",
    "    return {w for w in words if w in WORD_COUNTS}"
   ]
  },
  {
   "cell_type": "code",
   "execution_count": null,
   "metadata": {},
   "outputs": [],
   "source": [
    "def correct(word):\n",
    "    candidates = (known(edits0(word)) or\n",
    "                 known(edits1(word)) or\n",
    "                 known(edits2(word)) or\n",
    "                 [word])\n",
    "    return max(candidates, key=WORD_COUNTS.get)"
   ]
  },
  {
   "cell_type": "code",
   "execution_count": null,
   "metadata": {},
   "outputs": [],
   "source": [
    "def correct_match(match):#\n",
    "    \"\"\"\n",
    "    spell-correct word in match, \n",
    "    and perserve upper/lower/title case\n",
    "    \"\"\"\n",
    "    word = match.group()\n",
    "    def case_of(text):\n",
    "        return(str.upper if text.isupper() else\n",
    "              str.lower if text.islower() else\n",
    "              str.title if text.istitle() else\n",
    "              str)\n",
    "    return case_of(word)(correct(word.lower()))\n",
    "\n",
    "def correct_text_generic(text):\n",
    "    \"\"\"\n",
    "    correct all words in text\n",
    "    \"\"\"\n",
    "    return re.sub('[a-zA-Z]+', correct_match, text)"
   ]
  },
  {
   "cell_type": "code",
   "execution_count": null,
   "metadata": {},
   "outputs": [
    {
     "name": "stderr",
     "output_type": "stream",
     "text": [
      "100%|██████████| 161620/161620 [00:04<00:00, 33668.50it/s]\n"
     ]
    }
   ],
   "source": [
    "cleaned_text = contracted_input.progress_apply(lambda row:clean_text(row))"
   ]
  },
  {
   "cell_type": "code",
   "execution_count": null,
   "metadata": {},
   "outputs": [
    {
     "name": "stderr",
     "output_type": "stream",
     "text": [
      "100%|██████████| 161620/161620 [00:48<00:00, 3353.42it/s]\n"
     ]
    }
   ],
   "source": [
    "\n",
    "word_tokenised = cleaned_text.progress_apply(lambda text:nltk.word_tokenize(text))\n"
   ]
  },
  {
   "cell_type": "code",
   "execution_count": null,
   "metadata": {},
   "outputs": [
    {
     "name": "stderr",
     "output_type": "stream",
     "text": [
      " 67%|██████▋   | 107576/161620 [00:10<00:04, 11068.04it/s]"
     ]
    }
   ],
   "source": [
    "lemmatized_words = word_tokenised.progress_apply(lambda word_list:lemmatize_verbs(word_list))"
   ]
  },
  {
   "cell_type": "code",
   "execution_count": null,
   "metadata": {},
   "outputs": [],
   "source": [
    "lemmatized_words.head()"
   ]
  },
  {
   "cell_type": "markdown",
   "metadata": {},
   "source": [
    "# Feature Extraction"
   ]
  },
  {
   "cell_type": "code",
   "execution_count": null,
   "metadata": {},
   "outputs": [],
   "source": [
    "\n",
    "\n",
    "def extract_features(question_texts):  \n",
    "    word2index = {}\n",
    "    word2count = {}\n",
    "    index2word = {0: \"pad\"}\n",
    "    n_words = 1  # Count SOS and EOS\n",
    "    for text in question_texts:\n",
    "        for word in text:             \n",
    "            if word not in word2index:\n",
    "                word2index[word] = n_words\n",
    "                word2count[word] = 1\n",
    "                index2word[n_words] = word\n",
    "                n_words += 1\n",
    "            else:\n",
    "                word2count[word] += 1\n",
    "    return word2index,word2count,index2word,n_words\n",
    "\n",
    "    \n",
    "\n",
    "#make all the input text of the same size as size max_length input senetnce, padding with word \"PAD\"(zero padding)\n",
    "def make_input(sentence, time_stamp):\n",
    "    sent_len = len(sentence.split(' '))\n",
    "    if sent_len < time_stamp:\n",
    "        padded_sentence = sentence + (time_stamp - len(sentence.split(' '))) * \" PAD\"\n",
    "    else:\n",
    "        padded_sentence = sentence\n",
    "\n",
    "    return padded_sentence,sent_len"
   ]
  },
  {
   "cell_type": "code",
   "execution_count": null,
   "metadata": {},
   "outputs": [],
   "source": [
    "word2index,word2count,index2word,n_words = extract_features(lemmatized_words)"
   ]
  }
 ],
 "metadata": {
  "kernelspec": {
   "display_name": "Python 3",
   "language": "python",
   "name": "python3"
  },
  "language_info": {
   "codemirror_mode": {
    "name": "ipython",
    "version": 3
   },
   "file_extension": ".py",
   "mimetype": "text/x-python",
   "name": "python",
   "nbconvert_exporter": "python",
   "pygments_lexer": "ipython3",
   "version": "3.6.7"
  }
 },
 "nbformat": 4,
 "nbformat_minor": 2
}
