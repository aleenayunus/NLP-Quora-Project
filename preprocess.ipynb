{
 "cells": [
  {
   "cell_type": "code",
   "execution_count": 1,
   "metadata": {},
   "outputs": [],
   "source": [
    "import nltk\n",
    "import pandas as pd\n",
    "# import re\n",
    "import string\n",
    "import contractions\n",
    "import os\n",
    "from nltk import word_tokenize, sent_tokenize\n",
    "# from nltk.corpus import stopwords\n",
    "from nltk.stem import  WordNetLemmatizer\n",
    "import inflect\n",
    "# os.chdir('/home/rinkita/courses/NLPSeminar/nlp-quora-kaggle')\n",
    "# nltk.download('punkt')\n",
    "# nltk.download('stopwords')\n",
    "from tqdm import tqdm\n",
    "tqdm.pandas()\n",
    "\n",
    "import matplotlib.pyplot as plt\n"
   ]
  },
  {
   "cell_type": "code",
   "execution_count": 2,
   "metadata": {},
   "outputs": [],
   "source": [
    "data = pd.read_csv(\"./data/train.csv\")\n",
    "x_train=data.question_text\n"
   ]
  },
  {
   "cell_type": "code",
   "execution_count": 3,
   "metadata": {},
   "outputs": [
    {
     "data": {
      "text/plain": [
       "0    How did Quebec nationalists see their province...\n",
       "1    Do you have an adopted dog, how would you enco...\n",
       "2    Why does velocity affect time? Does velocity a...\n",
       "3    How did Otto von Guericke used the Magdeburg h...\n",
       "4    Can I convert montra helicon D to a mountain b...\n",
       "Name: question_text, dtype: object"
      ]
     },
     "execution_count": 3,
     "metadata": {},
     "output_type": "execute_result"
    }
   ],
   "source": [
    "x_train.head()"
   ]
  },
  {
   "cell_type": "code",
   "execution_count": 4,
   "metadata": {},
   "outputs": [
    {
     "data": {
      "text/plain": [
       "0    1225312\n",
       "1      80810\n",
       "Name: target, dtype: int64"
      ]
     },
     "execution_count": 4,
     "metadata": {},
     "output_type": "execute_result"
    }
   ],
   "source": [
    "data.target.value_counts()"
   ]
  },
  {
   "cell_type": "code",
   "execution_count": 5,
   "metadata": {},
   "outputs": [
    {
     "name": "stdout",
     "output_type": "stream",
     "text": [
      "<class 'pandas.core.frame.DataFrame'>\n",
      "RangeIndex: 1306122 entries, 0 to 1306121\n",
      "Data columns (total 3 columns):\n",
      "qid              1306122 non-null object\n",
      "question_text    1306122 non-null object\n",
      "target           1306122 non-null int64\n",
      "dtypes: int64(1), object(2)\n",
      "memory usage: 29.9+ MB\n"
     ]
    }
   ],
   "source": [
    "data.info()"
   ]
  },
  {
   "cell_type": "code",
   "execution_count": 6,
   "metadata": {},
   "outputs": [
    {
     "data": {
      "image/png": "[encoded data removed]",
      "text/plain": [
       "<Figure size 432x288 with 1 Axes>"
      ]
     },
     "metadata": {
      "needs_background": "light"
     },
     "output_type": "display_data"
    }
   ],
   "source": [
    "target_count=data.groupby('target').count()\n",
    "plt.bar(target_count.index.values, target_count['question_text'])\n",
    "plt.xlabel('Sincere/Insincere')\n",
    "plt.ylabel('Number of Questions')\n",
    "plt.show()"
   ]
  },
  {
   "cell_type": "code",
   "execution_count": 7,
   "metadata": {},
   "outputs": [
    {
     "name": "stderr",
     "output_type": "stream",
     "text": [
      "100%|██████████| 1306122/1306122 [03:44<00:00, 5807.00it/s]\n"
     ]
    }
   ],
   "source": [
    "# \"\"\"Replace contractions in string of text\"\"\"\n",
    "contracted_input = x_train.progress_apply(lambda row:contractions.fix(row))"
   ]
  },
  {
   "cell_type": "code",
   "execution_count": 8,
   "metadata": {},
   "outputs": [],
   "source": [
    "def clean_text(question_text):\n",
    "    question_text = question_text.translate(str.maketrans('','',string.punctuation))\n",
    "    question_text = question_text.translate(str.maketrans('','','1234567890'))\n",
    "    question_text = \" \".join(question_text.split())    \n",
    "    question_text = question_text.split()\n",
    "    # stop_words = set(stopwords.words('english'))\n",
    "    # question_text = [w for w in question_text if not w in stop_words and len(w) >= 3]\n",
    "    question_text = [w for w in question_text if len(w) >= 3]\n",
    "    question_text = [w.strip('/\"“”') for w in question_text ]\n",
    "    question_text = \" \".join(question_text)\n",
    "    return question_text\n"
   ]
  },
  {
   "cell_type": "code",
   "execution_count": 9,
   "metadata": {},
   "outputs": [],
   "source": [
    "def lemmatize_verbs(words):\n",
    "    \"\"\"Lemmatize verbs in list of tokenized words\"\"\"\n",
    "    lemmatizer = WordNetLemmatizer()\n",
    "    lemmas = []\n",
    "    for word in words:\n",
    "        lemma = lemmatizer.lemmatize(word, pos='v')\n",
    "        lemmas.append(lemma)\n",
    "    return lemmas"
   ]
  },
  {
   "cell_type": "code",
   "execution_count": 10,
   "metadata": {},
   "outputs": [
    {
     "name": "stderr",
     "output_type": "stream",
     "text": [
      "100%|██████████| 1306122/1306122 [00:21<00:00, 61087.75it/s]\n"
     ]
    }
   ],
   "source": [
    "cleaned_text = contracted_input.progress_apply(lambda row:clean_text(row))"
   ]
  },
  {
   "cell_type": "code",
   "execution_count": 11,
   "metadata": {},
   "outputs": [
    {
     "name": "stderr",
     "output_type": "stream",
     "text": [
      "100%|██████████| 1306122/1306122 [04:03<00:00, 5355.80it/s]\n"
     ]
    }
   ],
   "source": [
    "\n",
    "word_tokenised = cleaned_text.progress_apply(lambda text:nltk.word_tokenize(text))\n"
   ]
  },
  {
   "cell_type": "code",
   "execution_count": null,
   "metadata": {},
   "outputs": [
    {
     "name": "stderr",
     "output_type": "stream",
     "text": [
      " 46%|████▌     | 595330/1306122 [00:36<00:40, 17351.75it/s]"
     ]
    }
   ],
   "source": [
    "lemmatized_words = word_tokenised.progress_apply(lambda word_list:lemmatize_verbs(word_list))"
   ]
  },
  {
   "cell_type": "code",
   "execution_count": 77,
   "metadata": {},
   "outputs": [
    {
     "data": {
      "text/plain": [
       "0    [how, do, quebec, nationalists, see, their, pr...\n",
       "1    [you, have, adopt, dog, how, would, you, encou...\n",
       "2    [why, do, velocity, affect, time, do, velocity...\n",
       "3    [how, do, otto, von, guericke, use, the, magde...\n",
       "4    [can, convert, montra, helicon, mountain, bike...\n",
       "Name: question_text, dtype: object"
      ]
     },
     "execution_count": 77,
     "metadata": {},
     "output_type": "execute_result"
    }
   ],
   "source": [
    "lemmatized_words.head()"
   ]
  },
  {
   "cell_type": "code",
   "execution_count": 97,
   "metadata": {},
   "outputs": [],
   "source": [
    "\n",
    "\n",
    "def extract_features(question_texts):  \n",
    "    word2index = {}\n",
    "    word2count = {}\n",
    "    index2word = {0: \"pad\"}\n",
    "    n_words = 1  # Count SOS and EOS\n",
    "    for text in question_texts:\n",
    "        for word in text:             \n",
    "            if word not in word2index:\n",
    "                word2index[word] = n_words\n",
    "                word2count[word] = 1\n",
    "                index2word[n_words] = word\n",
    "                n_words += 1\n",
    "            else:\n",
    "                word2count[word] += 1\n",
    "    return word2index,word2count,index2word,n_words\n",
    "\n",
    "    \n",
    "\n",
    "#make all the input text of the same size as size max_length input senetnce, padding with word \"PAD\"(zero padding)\n",
    "def make_input(sentence):\n",
    "    sent_len = len(sentence.split(' '))\n",
    "    if sent_len < max_document_len:\n",
    "        padded_sentence = sentence + (max_document_len - len(sentence.split(' '))) * \" PAD\"\n",
    "    else:\n",
    "        padded_sentence = sentence\n",
    "\n",
    "    return padded_sentence,sent_len"
   ]
  },
  {
   "cell_type": "code",
   "execution_count": null,
   "metadata": {},
   "outputs": [],
   "source": [
    "word2index,word2count,index2word,n_words = extract_features(lemmatized_words)"
   ]
  }
 ],
 "metadata": {
  "kernelspec": {
   "display_name": "Python 3",
   "language": "python",
   "name": "python3"
  },
  "language_info": {
   "codemirror_mode": {
    "name": "ipython",
    "version": 3
   },
   "file_extension": ".py",
   "mimetype": "text/x-python",
   "name": "python",
   "nbconvert_exporter": "python",
   "pygments_lexer": "ipython3",
   "version": "3.6.7"
  }
 },
 "nbformat": 4,
 "nbformat_minor": 2
}
